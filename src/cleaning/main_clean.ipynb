{
 "cells": [
  {
   "cell_type": "markdown",
   "id": "c86849aa",
   "metadata": {},
   "source": [
    "### 匯入套件"
   ]
  },
  {
   "cell_type": "code",
   "execution_count": 45,
   "id": "f19bb1a0",
   "metadata": {},
   "outputs": [],
   "source": [
    "import pandas as pd\n",
    "import numpy as np\n",
    "import os"
   ]
  },
  {
   "cell_type": "markdown",
   "id": "99d4e39f",
   "metadata": {},
   "source": [
    "\n",
    "### 匯入檔案"
   ]
  },
  {
   "cell_type": "code",
   "execution_count": 46,
   "id": "e2fd95fc",
   "metadata": {},
   "outputs": [
    {
     "name": "stdout",
     "output_type": "stream",
     "text": [
      "       上架日期  申請人數         產業        公司名稱  \\\n",
      "0  20250709    10    家用電器製造業  金筆企業股份有限公司   \n",
      "1  20250714     1    廣告行銷公關業  創浪行銷顧問有限公司   \n",
      "2  20250708     6  電腦系統整合服務業    艾捷科技有限公司   \n",
      "3  20250625     9    工商顧問服務業    世銳顧問有限公司   \n",
      "4  20250714    10    電腦軟體服務業    不晚科技有限公司   \n",
      "\n",
      "                                         description   縣市       職稱      工作編號  \\\n",
      "0  1. 工廠生產數據收集、整理與分析，協助相關人員了解生產狀況\\n2. 建立分析指標，追蹤並記...  新北市  數據分析工程師  14720195   \n",
      "1  數據分析工具監測社群媒體、論壇、新聞平台，定期監控社群輿情。\\n\\n2.消費者洞察: 掌握潛...  台北市   數據分析經理  14724608   \n",
      "2  我們正在尋找身懷絕技的【數據分析師】加入我們的團隊\\n\\n你的任務：\\n\\n    解讀數據...  台中市    數據分析師  14437328   \n",
      "3  題，為客戶提供具有價值的服務並且協助推動客戶的財務成長。服務內容包括：\\n‧\\t打造具有吸引...  台北市  商業數據分析師  14079349   \n",
      "4  1.熟練數據分析工具，能進行數據清理、分析和建模，分析市場營銷活動的效果，提供報告和改進建議...  台北市     數據分析  14325959   \n",
      "\n",
      "   工作型態         經度          緯度                                 major  \\\n",
      "0     1  25.068090  121.455088  ['數理統計相關', '其他數學及電算機科學相關', '工業工程相關']   \n",
      "1     0  25.034500  121.560053        ['統計學相關', '資訊管理相關', '大眾傳播學相關']   \n",
      "2     0  24.148053  120.645606              ['數學及電算機科學學科類', '工程學科類']   \n",
      "3     0  25.053372  121.522852        ['一般商業學類', '醫藥工程相關', '數理統計相關']   \n",
      "4     0  25.076077  121.575436                                    []   \n",
      "\n",
      "              學歷要求  是否遠距     薪資上限   薪資下限         工作時段  \\\n",
      "0              [4]     0  9999999  38000          NaN   \n",
      "1        [4, 5, 6]     0        0      0          NaN   \n",
      "2           [4, 5]     0        0      0  09:00~18:00   \n",
      "3  [2, 3, 4, 5, 6]     0    60000  50000          NaN   \n",
      "4           [3, 4]     0        0      0          NaN   \n",
      "\n",
      "                                 職務分類代碼  是否積極徵才  \n",
      "0  [2007001022, 2009001003, 2007001009]       0  \n",
      "1                          [2007001018]       0  \n",
      "2  [2007001018, 2007001022, 2007001021]       1  \n",
      "3  [2007001021, 2007001018, 2004003006]       1  \n",
      "4  [2007001018, 2016001007, 2004001010]       1  \n"
     ]
    }
   ],
   "source": [
    "current_dir = os.getcwd()\n",
    "input_path=os.path.join(current_dir,r\"../../data/104_cleaned_0714.csv\")\n",
    "\n",
    "df=pd.read_csv(input_path)\n",
    "print(df.head())"
   ]
  },
  {
   "cell_type": "code",
   "execution_count": 47,
   "id": "ebb2dd93",
   "metadata": {},
   "outputs": [
    {
     "name": "stdout",
     "output_type": "stream",
     "text": [
      "<class 'pandas.core.frame.DataFrame'>\n",
      "RangeIndex: 361 entries, 0 to 360\n",
      "Data columns (total 19 columns):\n",
      " #   Column       Non-Null Count  Dtype  \n",
      "---  ------       --------------  -----  \n",
      " 0   上架日期         361 non-null    int64  \n",
      " 1   申請人數         361 non-null    int64  \n",
      " 2   產業           361 non-null    object \n",
      " 3   公司名稱         361 non-null    object \n",
      " 4   description  361 non-null    object \n",
      " 5   縣市           361 non-null    object \n",
      " 6   職稱           361 non-null    object \n",
      " 7   工作編號         361 non-null    int64  \n",
      " 8   工作型態         361 non-null    int64  \n",
      " 9   經度           361 non-null    float64\n",
      " 10  緯度           361 non-null    float64\n",
      " 11  major        361 non-null    object \n",
      " 12  學歷要求         361 non-null    object \n",
      " 13  是否遠距         361 non-null    int64  \n",
      " 14  薪資上限         361 non-null    int64  \n",
      " 15  薪資下限         361 non-null    int64  \n",
      " 16  工作時段         131 non-null    object \n",
      " 17  職務分類代碼       361 non-null    object \n",
      " 18  是否積極徵才       361 non-null    int64  \n",
      "dtypes: float64(2), int64(8), object(9)\n",
      "memory usage: 53.7+ KB\n"
     ]
    }
   ],
   "source": [
    "df.info()"
   ]
  },
  {
   "cell_type": "code",
   "execution_count": 48,
   "id": "f0a8ae43",
   "metadata": {},
   "outputs": [
    {
     "data": {
      "text/plain": [
       "上架日期             0\n",
       "申請人數             0\n",
       "產業               0\n",
       "公司名稱             0\n",
       "description      0\n",
       "縣市               0\n",
       "職稱               0\n",
       "工作編號             0\n",
       "工作型態             0\n",
       "經度               0\n",
       "緯度               0\n",
       "major            0\n",
       "學歷要求             0\n",
       "是否遠距             0\n",
       "薪資上限             0\n",
       "薪資下限             0\n",
       "工作時段           230\n",
       "職務分類代碼           0\n",
       "是否積極徵才           0\n",
       "dtype: int64"
      ]
     },
     "execution_count": 48,
     "metadata": {},
     "output_type": "execute_result"
    }
   ],
   "source": [
    "df.isnull().sum()"
   ]
  },
  {
   "cell_type": "markdown",
   "id": "d194d72b",
   "metadata": {},
   "source": [
    "### 工作時段太多Null值，刪除該欄位"
   ]
  },
  {
   "cell_type": "code",
   "execution_count": 49,
   "id": "8e4e3d83",
   "metadata": {},
   "outputs": [],
   "source": [
    "df.drop(columns=['工作時段','工作型態'],inplace=True)"
   ]
  },
  {
   "cell_type": "markdown",
   "id": "794680b0",
   "metadata": {},
   "source": []
  },
  {
   "cell_type": "code",
   "execution_count": 50,
   "id": "f1f450c5",
   "metadata": {},
   "outputs": [],
   "source": [
    "df['薪資下限']=df['薪資下限'].replace(0,40000)    #將面議的改成法規規定最低40000\n",
    "df=df[df['薪資下限']>=1000]     #將時薪(非正職、學生實習)的資料去除"
   ]
  },
  {
   "cell_type": "code",
   "execution_count": 51,
   "id": "5fd51ce6",
   "metadata": {},
   "outputs": [
    {
     "data": {
      "text/plain": [
       "(350, 17)"
      ]
     },
     "execution_count": 51,
     "metadata": {},
     "output_type": "execute_result"
    }
   ],
   "source": [
    "df.shape"
   ]
  },
  {
   "cell_type": "code",
   "execution_count": 52,
   "id": "8444c246",
   "metadata": {},
   "outputs": [
    {
     "data": {
      "text/plain": [
       "0      ['數理統計相關', '其他數學及電算機科學相關', '工業工程相關']\n",
       "1            ['統計學相關', '資訊管理相關', '大眾傳播學相關']\n",
       "2                  ['數學及電算機科學學科類', '工程學科類']\n",
       "3            ['一般商業學類', '醫藥工程相關', '數理統計相關']\n",
       "4                                        []\n",
       "                       ...                 \n",
       "356                     ['統計學相關', '數理統計相關']\n",
       "357            ['經濟學相關', '會計學相關', '財稅金融相關']\n",
       "358            ['資訊管理相關', '統計學相關', '經濟學相關']\n",
       "359                ['數學及電算機科學學科類', '統計學相關']\n",
       "360    ['資訊管理相關', '資訊工程相關', '其他數學及電算機科學相關']\n",
       "Name: major, Length: 350, dtype: object"
      ]
     },
     "execution_count": 52,
     "metadata": {},
     "output_type": "execute_result"
    }
   ],
   "source": [
    "df['major']"
   ]
  },
  {
   "cell_type": "code",
   "execution_count": 53,
   "id": "2b3b7207",
   "metadata": {},
   "outputs": [],
   "source": [
    "import ast # 導入 ast 模組\n",
    "df[\"是否要求特定major\"] = df['major'].apply(lambda x: 1 if len(ast.literal_eval(x)) > 0 else 0)"
   ]
  },
  {
   "cell_type": "code",
   "execution_count": 54,
   "id": "207c7b14",
   "metadata": {},
   "outputs": [
    {
     "data": {
      "text/plain": [
       "340    0\n",
       "341    1\n",
       "342    0\n",
       "343    0\n",
       "344    1\n",
       "345    1\n",
       "346    1\n",
       "347    0\n",
       "348    1\n",
       "350    0\n",
       "351    0\n",
       "352    0\n",
       "353    0\n",
       "354    0\n",
       "355    0\n",
       "356    1\n",
       "357    1\n",
       "358    1\n",
       "359    1\n",
       "360    1\n",
       "Name: 是否要求特定major, dtype: int64"
      ]
     },
     "execution_count": 54,
     "metadata": {},
     "output_type": "execute_result"
    }
   ],
   "source": [
    "df['是否要求特定major'].tail(20)"
   ]
  }
 ],
 "metadata": {
  "kernelspec": {
   "display_name": "104project",
   "language": "python",
   "name": "python3"
  },
  "language_info": {
   "codemirror_mode": {
    "name": "ipython",
    "version": 3
   },
   "file_extension": ".py",
   "mimetype": "text/x-python",
   "name": "python",
   "nbconvert_exporter": "python",
   "pygments_lexer": "ipython3",
   "version": "3.10.18"
  }
 },
 "nbformat": 4,
 "nbformat_minor": 5
}
