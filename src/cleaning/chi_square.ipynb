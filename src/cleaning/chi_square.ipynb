{
 "cells": [
  {
   "cell_type": "markdown",
   "id": "bbe6ad09",
   "metadata": {},
   "source": [
    "### 0.載入套件"
   ]
  },
  {
   "cell_type": "code",
   "execution_count": 15,
   "id": "8989ada6",
   "metadata": {},
   "outputs": [],
   "source": [
    "import pandas as pd\n",
    "from scipy.stats import chi2_contingency\n",
    "import matplotlib.pyplot as plt\n",
    "import seaborn as sns"
   ]
  },
  {
   "cell_type": "markdown",
   "id": "44ca027a",
   "metadata": {},
   "source": [
    "### 1.匯入資料(挑兩個欄位)"
   ]
  },
  {
   "cell_type": "code",
   "execution_count": 16,
   "id": "784231ee",
   "metadata": {},
   "outputs": [
    {
     "data": {
      "text/html": [
       "<div>\n",
       "<style scoped>\n",
       "    .dataframe tbody tr th:only-of-type {\n",
       "        vertical-align: middle;\n",
       "    }\n",
       "\n",
       "    .dataframe tbody tr th {\n",
       "        vertical-align: top;\n",
       "    }\n",
       "\n",
       "    .dataframe thead th {\n",
       "        text-align: right;\n",
       "    }\n",
       "</style>\n",
       "<table border=\"1\" class=\"dataframe\">\n",
       "  <thead>\n",
       "    <tr style=\"text-align: right;\">\n",
       "      <th></th>\n",
       "      <th>上架日期</th>\n",
       "      <th>申請人數</th>\n",
       "      <th>公司名稱</th>\n",
       "      <th>description</th>\n",
       "      <th>縣市</th>\n",
       "      <th>職稱</th>\n",
       "      <th>工作編號</th>\n",
       "      <th>經度</th>\n",
       "      <th>緯度</th>\n",
       "      <th>major</th>\n",
       "      <th>...</th>\n",
       "      <th>薪資下限</th>\n",
       "      <th>是否積極徵才</th>\n",
       "      <th>員工人數</th>\n",
       "      <th>搜尋關鍵字</th>\n",
       "      <th>薪資是否為面議</th>\n",
       "      <th>是否要求特定major</th>\n",
       "      <th>八大產業</th>\n",
       "      <th>公司規模</th>\n",
       "      <th>工作經驗</th>\n",
       "      <th>專長工具</th>\n",
       "    </tr>\n",
       "  </thead>\n",
       "  <tbody>\n",
       "    <tr>\n",
       "      <th>0</th>\n",
       "      <td>20250709</td>\n",
       "      <td>5</td>\n",
       "      <td>今周刊_今周文化事業股份有限公司</td>\n",
       "      <td>1.【必備】Google Analytics技能。 \\n2.【必備】熟稔Excel(函數、樞...</td>\n",
       "      <td>台北市</td>\n",
       "      <td>數據分析師【今周刊─數位內容部】</td>\n",
       "      <td>14090732</td>\n",
       "      <td>25.051911</td>\n",
       "      <td>121.526154</td>\n",
       "      <td>[]</td>\n",
       "      <td>...</td>\n",
       "      <td>40000</td>\n",
       "      <td>0</td>\n",
       "      <td>217.0</td>\n",
       "      <td>數據分析</td>\n",
       "      <td>1</td>\n",
       "      <td>0</td>\n",
       "      <td>服務與專業顧問業</td>\n",
       "      <td>大型</td>\n",
       "      <td>2年以上</td>\n",
       "      <td>NaN</td>\n",
       "    </tr>\n",
       "    <tr>\n",
       "      <th>1</th>\n",
       "      <td>20250715</td>\n",
       "      <td>4</td>\n",
       "      <td>藝珂人事顧問股份有限公司</td>\n",
       "      <td>數據洞察與分析\\n分析商品分類、顧客行為、流量來源、轉換率等電商關鍵指標，找出成長機會與潛在...</td>\n",
       "      <td>台北市</td>\n",
       "      <td>[電商] 數據分析主管</td>\n",
       "      <td>14739101</td>\n",
       "      <td>25.040652</td>\n",
       "      <td>121.565297</td>\n",
       "      <td>[]</td>\n",
       "      <td>...</td>\n",
       "      <td>40000</td>\n",
       "      <td>0</td>\n",
       "      <td>NaN</td>\n",
       "      <td>數據分析</td>\n",
       "      <td>1</td>\n",
       "      <td>0</td>\n",
       "      <td>服務與專業顧問業</td>\n",
       "      <td>未知</td>\n",
       "      <td>8年以上</td>\n",
       "      <td>NaN</td>\n",
       "    </tr>\n",
       "    <tr>\n",
       "      <th>2</th>\n",
       "      <td>20250717</td>\n",
       "      <td>6</td>\n",
       "      <td>錼創顯示科技股份有限公司</td>\n",
       "      <td>1. 分析生產數據與大數據建模，協助建立品質監測與異常偵測模型，提供優化建議。\\n2. 參與...</td>\n",
       "      <td>苗栗縣</td>\n",
       "      <td>數據分析工程師</td>\n",
       "      <td>14535114</td>\n",
       "      <td>24.711336</td>\n",
       "      <td>120.913172</td>\n",
       "      <td>['數理統計相關', '工業工程相關', '其他數學及電算機科學相關']</td>\n",
       "      <td>...</td>\n",
       "      <td>40000</td>\n",
       "      <td>0</td>\n",
       "      <td>500.0</td>\n",
       "      <td>數據分析</td>\n",
       "      <td>1</td>\n",
       "      <td>1</td>\n",
       "      <td>製造業</td>\n",
       "      <td>大型</td>\n",
       "      <td>不拘</td>\n",
       "      <td>NaN</td>\n",
       "    </tr>\n",
       "    <tr>\n",
       "      <th>3</th>\n",
       "      <td>20250604</td>\n",
       "      <td>5</td>\n",
       "      <td>國立臺北科技大學</td>\n",
       "      <td>作，成果應用於企業與政府智慧城市專案。加入我們，您將成為城市科學的先鋒，與世界領先的團隊共創...</td>\n",
       "      <td>台北市</td>\n",
       "      <td>MITxTaipei Tech 都市數據分析師</td>\n",
       "      <td>13817654</td>\n",
       "      <td>25.041802</td>\n",
       "      <td>121.534887</td>\n",
       "      <td>[]</td>\n",
       "      <td>...</td>\n",
       "      <td>40000</td>\n",
       "      <td>0</td>\n",
       "      <td>NaN</td>\n",
       "      <td>數據分析</td>\n",
       "      <td>1</td>\n",
       "      <td>0</td>\n",
       "      <td>服務與專業顧問業</td>\n",
       "      <td>未知</td>\n",
       "      <td>不拘</td>\n",
       "      <td>NaN</td>\n",
       "    </tr>\n",
       "    <tr>\n",
       "      <th>4</th>\n",
       "      <td>20250625</td>\n",
       "      <td>11</td>\n",
       "      <td>世銳顧問有限公司</td>\n",
       "      <td>題，為客戶提供具有價值的服務並且協助推動客戶的財務成長。服務內容包括：\\n‧\\t打造具有吸引...</td>\n",
       "      <td>台北市</td>\n",
       "      <td>商業數據分析師</td>\n",
       "      <td>14079349</td>\n",
       "      <td>25.053372</td>\n",
       "      <td>121.522852</td>\n",
       "      <td>['一般商業學類', '醫藥工程相關', '數理統計相關']</td>\n",
       "      <td>...</td>\n",
       "      <td>50000</td>\n",
       "      <td>1</td>\n",
       "      <td>20.0</td>\n",
       "      <td>數據分析</td>\n",
       "      <td>0</td>\n",
       "      <td>1</td>\n",
       "      <td>服務與專業顧問業</td>\n",
       "      <td>小型</td>\n",
       "      <td>不拘</td>\n",
       "      <td>Excel, PowerPoint, Word</td>\n",
       "    </tr>\n",
       "  </tbody>\n",
       "</table>\n",
       "<p>5 rows × 22 columns</p>\n",
       "</div>"
      ],
      "text/plain": [
       "       上架日期  申請人數              公司名稱  \\\n",
       "0  20250709     5  今周刊_今周文化事業股份有限公司   \n",
       "1  20250715     4      藝珂人事顧問股份有限公司   \n",
       "2  20250717     6      錼創顯示科技股份有限公司   \n",
       "3  20250604     5          國立臺北科技大學   \n",
       "4  20250625    11          世銳顧問有限公司   \n",
       "\n",
       "                                         description   縣市  \\\n",
       "0  1.【必備】Google Analytics技能。 \\n2.【必備】熟稔Excel(函數、樞...  台北市   \n",
       "1  數據洞察與分析\\n分析商品分類、顧客行為、流量來源、轉換率等電商關鍵指標，找出成長機會與潛在...  台北市   \n",
       "2  1. 分析生產數據與大數據建模，協助建立品質監測與異常偵測模型，提供優化建議。\\n2. 參與...  苗栗縣   \n",
       "3  作，成果應用於企業與政府智慧城市專案。加入我們，您將成為城市科學的先鋒，與世界領先的團隊共創...  台北市   \n",
       "4  題，為客戶提供具有價值的服務並且協助推動客戶的財務成長。服務內容包括：\\n‧\\t打造具有吸引...  台北市   \n",
       "\n",
       "                        職稱      工作編號         經度          緯度  \\\n",
       "0         數據分析師【今周刊─數位內容部】  14090732  25.051911  121.526154   \n",
       "1              [電商] 數據分析主管  14739101  25.040652  121.565297   \n",
       "2                  數據分析工程師  14535114  24.711336  120.913172   \n",
       "3  MITxTaipei Tech 都市數據分析師  13817654  25.041802  121.534887   \n",
       "4                  商業數據分析師  14079349  25.053372  121.522852   \n",
       "\n",
       "                                  major  ...   薪資下限 是否積極徵才   員工人數  搜尋關鍵字  \\\n",
       "0                                    []  ...  40000      0  217.0   數據分析   \n",
       "1                                    []  ...  40000      0    NaN   數據分析   \n",
       "2  ['數理統計相關', '工業工程相關', '其他數學及電算機科學相關']  ...  40000      0  500.0   數據分析   \n",
       "3                                    []  ...  40000      0    NaN   數據分析   \n",
       "4        ['一般商業學類', '醫藥工程相關', '數理統計相關']  ...  50000      1   20.0   數據分析   \n",
       "\n",
       "   薪資是否為面議 是否要求特定major      八大產業  公司規模  工作經驗                     專長工具  \n",
       "0        1           0  服務與專業顧問業    大型  2年以上                      NaN  \n",
       "1        1           0  服務與專業顧問業    未知  8年以上                      NaN  \n",
       "2        1           1       製造業    大型    不拘                      NaN  \n",
       "3        1           0  服務與專業顧問業    未知    不拘                      NaN  \n",
       "4        0           1  服務與專業顧問業    小型    不拘  Excel, PowerPoint, Word  \n",
       "\n",
       "[5 rows x 22 columns]"
      ]
     },
     "execution_count": 16,
     "metadata": {},
     "output_type": "execute_result"
    }
   ],
   "source": [
    "df=pd.read_csv(r\"C:\\Users\\FM_pc\\Desktop\\暫時匯出查看.csv\")\n",
    "df.head()"
   ]
  },
  {
   "cell_type": "markdown",
   "id": "a65029c8",
   "metadata": {},
   "source": [
    "### 2.建立交叉表"
   ]
  },
  {
   "cell_type": "code",
   "execution_count": 17,
   "id": "555e7b21",
   "metadata": {},
   "outputs": [],
   "source": [
    "table=pd.crosstab(df['八大產業'],df['薪資是否為面議'])\n",
    "table.drop(index=['觀光與餐飲業','運輸與物流業'],inplace=True)"
   ]
  },
  {
   "cell_type": "markdown",
   "id": "666c8757",
   "metadata": {},
   "source": [
    "### 3.做卡方檢定"
   ]
  },
  {
   "cell_type": "code",
   "execution_count": 18,
   "id": "d48572db",
   "metadata": {},
   "outputs": [],
   "source": [
    "chi2, p, dof, expected = chi2_contingency(table)"
   ]
  },
  {
   "cell_type": "markdown",
   "id": "9177434e",
   "metadata": {},
   "source": [
    "### 4.查看期望值(檢查前提)"
   ]
  },
  {
   "cell_type": "code",
   "execution_count": 19,
   "id": "a5f4339c",
   "metadata": {},
   "outputs": [
    {
     "name": "stdout",
     "output_type": "stream",
     "text": [
      "卡方值 chi2: 25.545091885247945\n",
      "自由度 dof: 6\n",
      "p 值: 0.00027054269202646296\n"
     ]
    }
   ],
   "source": [
    "print(\"卡方值 chi2:\", chi2)\n",
    "print(\"自由度 dof:\", dof)\n",
    "print(\"p 值:\", p)"
   ]
  },
  {
   "cell_type": "markdown",
   "id": "d2895563",
   "metadata": {},
   "source": [
    "### 5.解讀p-value,是否拒絕H0"
   ]
  },
  {
   "cell_type": "markdown",
   "id": "5ef36fd9",
   "metadata": {},
   "source": [
    "### 6.視覺化，幫助理解"
   ]
  }
 ],
 "metadata": {
  "kernelspec": {
   "display_name": "104project",
   "language": "python",
   "name": "python3"
  },
  "language_info": {
   "codemirror_mode": {
    "name": "ipython",
    "version": 3
   },
   "file_extension": ".py",
   "mimetype": "text/x-python",
   "name": "python",
   "nbconvert_exporter": "python",
   "pygments_lexer": "ipython3",
   "version": "3.10.18"
  }
 },
 "nbformat": 4,
 "nbformat_minor": 5
}
