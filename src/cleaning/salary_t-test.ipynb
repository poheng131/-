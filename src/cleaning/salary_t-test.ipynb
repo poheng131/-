{
 "cells": [
  {
   "cell_type": "code",
   "execution_count": 30,
   "id": "b1d7e4a1",
   "metadata": {},
   "outputs": [],
   "source": [
    "import pandas as pd\n",
    "import matplotlib.pyplot as plt\n",
    "import seaborn as sns"
   ]
  },
  {
   "cell_type": "markdown",
   "id": "a00fe30c",
   "metadata": {},
   "source": [
    "## 只保留有數字的薪資，排除面議的"
   ]
  },
  {
   "cell_type": "code",
   "execution_count": 31,
   "id": "c0dcf66b",
   "metadata": {},
   "outputs": [],
   "source": [
    "df=pd.read_csv(r\"C:\\Users\\FM_pc\\Desktop\\暫時匯出查看.csv\")\n",
    "df_filter=df[df['薪資是否為面議']==0].copy()"
   ]
  },
  {
   "cell_type": "code",
   "execution_count": 32,
   "id": "ea295142",
   "metadata": {},
   "outputs": [],
   "source": [
    "df_filter['要求python']=df_filter['專長工具'].fillna('').str.contains('python',case=False)"
   ]
  },
  {
   "cell_type": "code",
   "execution_count": 33,
   "id": "e7202762",
   "metadata": {},
   "outputs": [
    {
     "data": {
      "text/html": [
       "<div>\n",
       "<style scoped>\n",
       "    .dataframe tbody tr th:only-of-type {\n",
       "        vertical-align: middle;\n",
       "    }\n",
       "\n",
       "    .dataframe tbody tr th {\n",
       "        vertical-align: top;\n",
       "    }\n",
       "\n",
       "    .dataframe thead th {\n",
       "        text-align: right;\n",
       "    }\n",
       "</style>\n",
       "<table border=\"1\" class=\"dataframe\">\n",
       "  <thead>\n",
       "    <tr style=\"text-align: right;\">\n",
       "      <th></th>\n",
       "      <th>上架日期</th>\n",
       "      <th>申請人數</th>\n",
       "      <th>公司名稱</th>\n",
       "      <th>description</th>\n",
       "      <th>縣市</th>\n",
       "      <th>職稱</th>\n",
       "      <th>工作編號</th>\n",
       "      <th>經度</th>\n",
       "      <th>緯度</th>\n",
       "      <th>major</th>\n",
       "      <th>...</th>\n",
       "      <th>是否積極徵才</th>\n",
       "      <th>員工人數</th>\n",
       "      <th>搜尋關鍵字</th>\n",
       "      <th>薪資是否為面議</th>\n",
       "      <th>是否要求特定major</th>\n",
       "      <th>八大產業</th>\n",
       "      <th>公司規模</th>\n",
       "      <th>工作經驗</th>\n",
       "      <th>專長工具</th>\n",
       "      <th>要求python</th>\n",
       "    </tr>\n",
       "  </thead>\n",
       "  <tbody>\n",
       "    <tr>\n",
       "      <th>562</th>\n",
       "      <td>20250711</td>\n",
       "      <td>11</td>\n",
       "      <td>佳世達科技股份有限公司</td>\n",
       "      <td>1.資料結構分析, 包含收集、清理、分析和整合資料\\n2.分析問題，提出建議並協助建立和驗證...</td>\n",
       "      <td>台北市</td>\n",
       "      <td>資料科學家【資訊技術服務處】(台北)</td>\n",
       "      <td>13896904</td>\n",
       "      <td>25.068942</td>\n",
       "      <td>121.590903</td>\n",
       "      <td>['資訊管理相關', '數理統計相關', '資訊工程相關']</td>\n",
       "      <td>...</td>\n",
       "      <td>0</td>\n",
       "      <td>30000.0</td>\n",
       "      <td>數據科學</td>\n",
       "      <td>0</td>\n",
       "      <td>1</td>\n",
       "      <td>製造業</td>\n",
       "      <td>大型</td>\n",
       "      <td>1年以上</td>\n",
       "      <td>NaN</td>\n",
       "      <td>False</td>\n",
       "    </tr>\n",
       "    <tr>\n",
       "      <th>569</th>\n",
       "      <td>20250625</td>\n",
       "      <td>14</td>\n",
       "      <td>世銳顧問有限公司</td>\n",
       "      <td>Xelay Acumen Data Science Analysts are a diver...</td>\n",
       "      <td>台北市</td>\n",
       "      <td>Data Science Analyst (Taipei, Taiwan)</td>\n",
       "      <td>14362141</td>\n",
       "      <td>25.053372</td>\n",
       "      <td>121.522852</td>\n",
       "      <td>[]</td>\n",
       "      <td>...</td>\n",
       "      <td>0</td>\n",
       "      <td>20.0</td>\n",
       "      <td>數據科學</td>\n",
       "      <td>0</td>\n",
       "      <td>0</td>\n",
       "      <td>服務與專業顧問業</td>\n",
       "      <td>小型</td>\n",
       "      <td>不拘</td>\n",
       "      <td>Excel, PowerPoint</td>\n",
       "      <td>False</td>\n",
       "    </tr>\n",
       "    <tr>\n",
       "      <th>578</th>\n",
       "      <td>20250630</td>\n",
       "      <td>1</td>\n",
       "      <td>威果農業股份有限公司</td>\n",
       "      <td>用數據驅動農業革命，打造「農業自動駕駛」系統！\\n我們正建立全球化的智慧農業決策系統，你需要...</td>\n",
       "      <td>台南市</td>\n",
       "      <td>智慧農業數據分析師</td>\n",
       "      <td>14603284</td>\n",
       "      <td>23.176340</td>\n",
       "      <td>120.239734</td>\n",
       "      <td>['應用數學相關', '資訊工程相關']</td>\n",
       "      <td>...</td>\n",
       "      <td>0</td>\n",
       "      <td>7.0</td>\n",
       "      <td>數據科學</td>\n",
       "      <td>0</td>\n",
       "      <td>1</td>\n",
       "      <td>批發與零售業</td>\n",
       "      <td>小型</td>\n",
       "      <td>2年以上</td>\n",
       "      <td>Python</td>\n",
       "      <td>True</td>\n",
       "    </tr>\n",
       "    <tr>\n",
       "      <th>586</th>\n",
       "      <td>20250715</td>\n",
       "      <td>5</td>\n",
       "      <td>華權數位整合行銷有限公司</td>\n",
       "      <td>主要工作述敘：\\n1. 數據分析與精算：\\n■分析遊戲玩家行為數據、直播主表現數據，協助優化...</td>\n",
       "      <td>台中市</td>\n",
       "      <td>數據分析師</td>\n",
       "      <td>14424533</td>\n",
       "      <td>24.116516</td>\n",
       "      <td>120.615540</td>\n",
       "      <td>['統計學相關', '數理統計相關', '應用數學相關']</td>\n",
       "      <td>...</td>\n",
       "      <td>0</td>\n",
       "      <td>NaN</td>\n",
       "      <td>數據分析</td>\n",
       "      <td>0</td>\n",
       "      <td>1</td>\n",
       "      <td>服務與專業顧問業</td>\n",
       "      <td>未知</td>\n",
       "      <td>1年以上</td>\n",
       "      <td>NaN</td>\n",
       "      <td>False</td>\n",
       "    </tr>\n",
       "    <tr>\n",
       "      <th>588</th>\n",
       "      <td>20250709</td>\n",
       "      <td>2</td>\n",
       "      <td>CONTIN 康定_奇來生技有限公司</td>\n",
       "      <td>團媽 合作效益追蹤機制，量化其曝光、導流與銷售成效，並提出合作優化建議。\\n\\n3.利用 G...</td>\n",
       "      <td>高雄市</td>\n",
       "      <td>數位行銷數據分析師</td>\n",
       "      <td>14620764</td>\n",
       "      <td>22.641587</td>\n",
       "      <td>120.385938</td>\n",
       "      <td>[]</td>\n",
       "      <td>...</td>\n",
       "      <td>0</td>\n",
       "      <td>NaN</td>\n",
       "      <td>數據分析</td>\n",
       "      <td>0</td>\n",
       "      <td>0</td>\n",
       "      <td>製造業</td>\n",
       "      <td>未知</td>\n",
       "      <td>2年以上</td>\n",
       "      <td>Line, Instagram, Facebook, Google Analytics, G...</td>\n",
       "      <td>False</td>\n",
       "    </tr>\n",
       "  </tbody>\n",
       "</table>\n",
       "<p>5 rows × 23 columns</p>\n",
       "</div>"
      ],
      "text/plain": [
       "         上架日期  申請人數                公司名稱  \\\n",
       "562  20250711    11         佳世達科技股份有限公司   \n",
       "569  20250625    14            世銳顧問有限公司   \n",
       "578  20250630     1          威果農業股份有限公司   \n",
       "586  20250715     5        華權數位整合行銷有限公司   \n",
       "588  20250709     2  CONTIN 康定_奇來生技有限公司   \n",
       "\n",
       "                                           description   縣市  \\\n",
       "562  1.資料結構分析, 包含收集、清理、分析和整合資料\\n2.分析問題，提出建議並協助建立和驗證...  台北市   \n",
       "569  Xelay Acumen Data Science Analysts are a diver...  台北市   \n",
       "578  用數據驅動農業革命，打造「農業自動駕駛」系統！\\n我們正建立全球化的智慧農業決策系統，你需要...  台南市   \n",
       "586  主要工作述敘：\\n1. 數據分析與精算：\\n■分析遊戲玩家行為數據、直播主表現數據，協助優化...  台中市   \n",
       "588  團媽 合作效益追蹤機制，量化其曝光、導流與銷售成效，並提出合作優化建議。\\n\\n3.利用 G...  高雄市   \n",
       "\n",
       "                                        職稱      工作編號         經度          緯度  \\\n",
       "562                     資料科學家【資訊技術服務處】(台北)  13896904  25.068942  121.590903   \n",
       "569  Data Science Analyst (Taipei, Taiwan)  14362141  25.053372  121.522852   \n",
       "578                              智慧農業數據分析師  14603284  23.176340  120.239734   \n",
       "586                                  數據分析師  14424533  24.116516  120.615540   \n",
       "588                              數位行銷數據分析師  14620764  22.641587  120.385938   \n",
       "\n",
       "                              major  ... 是否積極徵才     員工人數  搜尋關鍵字  薪資是否為面議  \\\n",
       "562  ['資訊管理相關', '數理統計相關', '資訊工程相關']  ...      0  30000.0   數據科學        0   \n",
       "569                              []  ...      0     20.0   數據科學        0   \n",
       "578            ['應用數學相關', '資訊工程相關']  ...      0      7.0   數據科學        0   \n",
       "586   ['統計學相關', '數理統計相關', '應用數學相關']  ...      0      NaN   數據分析        0   \n",
       "588                              []  ...      0      NaN   數據分析        0   \n",
       "\n",
       "     是否要求特定major      八大產業  公司規模  工作經驗  \\\n",
       "562            1       製造業    大型  1年以上   \n",
       "569            0  服務與專業顧問業    小型    不拘   \n",
       "578            1    批發與零售業    小型  2年以上   \n",
       "586            1  服務與專業顧問業    未知  1年以上   \n",
       "588            0       製造業    未知  2年以上   \n",
       "\n",
       "                                                  專長工具 要求python  \n",
       "562                                                NaN    False  \n",
       "569                                  Excel, PowerPoint    False  \n",
       "578                                             Python     True  \n",
       "586                                                NaN    False  \n",
       "588  Line, Instagram, Facebook, Google Analytics, G...    False  \n",
       "\n",
       "[5 rows x 23 columns]"
      ]
     },
     "execution_count": 33,
     "metadata": {},
     "output_type": "execute_result"
    }
   ],
   "source": [
    "df_filter.tail(5)"
   ]
  },
  {
   "cell_type": "markdown",
   "id": "37dda5ae",
   "metadata": {},
   "source": [
    "## 分組薪資資料"
   ]
  },
  {
   "cell_type": "code",
   "execution_count": 34,
   "id": "5892471e",
   "metadata": {},
   "outputs": [],
   "source": [
    "with_py=df_filter[df_filter['要求python']]['薪資下限']\n",
    "without_py=df_filter[~df_filter['要求python']]['薪資下限']"
   ]
  },
  {
   "cell_type": "markdown",
   "id": "156dfe67",
   "metadata": {},
   "source": [
    "### 要求python描述統計"
   ]
  },
  {
   "cell_type": "code",
   "execution_count": 35,
   "id": "25dfc4dd",
   "metadata": {},
   "outputs": [
    {
     "data": {
      "text/plain": [
       "count        89.000000\n",
       "mean      53780.011236\n",
       "std       20679.252841\n",
       "min       28590.000000\n",
       "25%       39000.000000\n",
       "50%       45000.000000\n",
       "75%       70000.000000\n",
       "max      133333.000000\n",
       "Name: 薪資下限, dtype: float64"
      ]
     },
     "execution_count": 35,
     "metadata": {},
     "output_type": "execute_result"
    }
   ],
   "source": [
    "with_py.describe()"
   ]
  },
  {
   "cell_type": "markdown",
   "id": "6e7549f6",
   "metadata": {},
   "source": [
    "### 不要求python描述統計"
   ]
  },
  {
   "cell_type": "code",
   "execution_count": 36,
   "id": "a7aabbc1",
   "metadata": {},
   "outputs": [
    {
     "data": {
      "text/plain": [
       "count        91.000000\n",
       "mean      44094.879121\n",
       "std       13682.795895\n",
       "min       30000.000000\n",
       "25%       35000.000000\n",
       "50%       40000.000000\n",
       "75%       48253.000000\n",
       "max      100000.000000\n",
       "Name: 薪資下限, dtype: float64"
      ]
     },
     "execution_count": 36,
     "metadata": {},
     "output_type": "execute_result"
    }
   ],
   "source": [
    "without_py.describe()"
   ]
  },
  {
   "cell_type": "markdown",
   "id": "7762e662",
   "metadata": {},
   "source": [
    "##繪製箱型圖，判斷資料是否偏態、觀察極端值"
   ]
  },
  {
   "cell_type": "code",
   "execution_count": 37,
   "id": "e1fd0732",
   "metadata": {},
   "outputs": [
    {
     "data": {
      "text/plain": [
       "Text(0.5, 1.0, '薪資下限的箱型圖(是否要求python)')"
      ]
     },
     "execution_count": 37,
     "metadata": {},
     "output_type": "execute_result"
    },
    {
     "data": {
      "image/png": "[encoded data removed]",
      "text/plain": [
       "<Figure size 1200x500 with 1 Axes>"
      ]
     },
     "metadata": {},
     "output_type": "display_data"
    }
   ],
   "source": [
    "plt.figure(figsize=(12,5))\n",
    "plt.rcParams['font.family'] = 'Microsoft JhengHei'\n",
    "plt.rcParams['axes.unicode_minus'] = False\n",
    "sns.boxplot(x='要求python',y='薪資下限',data=df_filter)\n",
    "plt.title('薪資下限的箱型圖(是否要求python)')"
   ]
  },
  {
   "cell_type": "markdown",
   "id": "294f9d46",
   "metadata": {},
   "source": [
    "##用IQR(InterQualtile Range)去除極端值"
   ]
  },
  {
   "cell_type": "code",
   "execution_count": null,
   "id": "287ab532",
   "metadata": {},
   "outputs": [],
   "source": [
    "Q1=df_filter['薪資下限'].quantile(0.25)\n",
    "Q3=df_filter['薪資下限'].quantile(0.75)\n",
    "IQR=Q3-Q1\n",
    "lower_bound=Q1-1.5*IQR\n",
    "upper_bound=Q3+1.5*IQR\n",
    "not_outlier=df_filter[(df_filter['薪資下限']>=lower_bound ) & (df_filter['薪資下限']<=upper_bound)]"
   ]
  },
  {
   "cell_type": "code",
   "execution_count": null,
   "id": "7a0a0f2d",
   "metadata": {},
   "outputs": [
    {
     "data": {
      "text/plain": [
       "Text(0.5, 1.0, '薪資下限去除極端值的箱型圖(是否要求python)')"
      ]
     },
     "execution_count": 39,
     "metadata": {},
     "output_type": "execute_result"
    },
    {
     "data": {
      "image/png": "[encoded data removed]",
      "text/plain": [
       "<Figure size 640x480 with 1 Axes>"
      ]
     },
     "metadata": {},
     "output_type": "display_data"
    }
   ],
   "source": [
    "sns.boxplot(x='要求python',y=\"薪資下限\",data=not_outlier)\n",
    "plt.title(\"薪資下限去除極端值的箱型圖(是否要求python)\")"
   ]
  }
 ],
 "metadata": {
  "kernelspec": {
   "display_name": "104project",
   "language": "python",
   "name": "python3"
  },
  "language_info": {
   "codemirror_mode": {
    "name": "ipython",
    "version": 3
   },
   "file_extension": ".py",
   "mimetype": "text/x-python",
   "name": "python",
   "nbconvert_exporter": "python",
   "pygments_lexer": "ipython3",
   "version": "3.10.18"
  }
 },
 "nbformat": 4,
 "nbformat_minor": 5
}
