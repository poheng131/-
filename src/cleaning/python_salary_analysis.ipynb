{
 "cells": [
  {
   "cell_type": "code",
   "execution_count": null,
   "id": "5a168b1c",
   "metadata": {},
   "outputs": [],
   "source": [
    "import pandas as pd\n",
    "import matplotlib.pyplot as plt\n",
    "import seaborn as sns\n",
    "import numpy as np\n",
    "from scipy import stats \n"
   ]
  },
  {
   "cell_type": "markdown",
   "id": "d45016ab",
   "metadata": {},
   "source": [
    "### 只保留有數字的薪資，排除面議的"
   ]
  },
  {
   "cell_type": "code",
   "execution_count": null,
   "id": "727722e2",
   "metadata": {},
   "outputs": [],
   "source": [
    "df=pd.read_csv(r\"C:\\Users\\FM_pc\\Desktop\\暫時匯出查看.csv\")\n",
    "df_filter=df[df['薪資是否為面議']==0].copy()"
   ]
  },
  {
   "cell_type": "code",
   "execution_count": null,
   "id": "9d9e2499",
   "metadata": {},
   "outputs": [],
   "source": [
    "df_filter['要求python']=df_filter['專長工具'].fillna('').str.contains('python',case=False)"
   ]
  },
  {
   "cell_type": "code",
   "execution_count": null,
   "id": "afb51d74",
   "metadata": {},
   "outputs": [],
   "source": [
    "df_filter.tail(5)"
   ]
  },
  {
   "cell_type": "markdown",
   "id": "d792328e",
   "metadata": {},
   "source": [
    "### 分組薪資資料"
   ]
  },
  {
   "cell_type": "code",
   "execution_count": null,
   "id": "85209a12",
   "metadata": {},
   "outputs": [],
   "source": [
    "with_py=df_filter[df_filter['要求python']]['薪資下限']\n",
    "without_py=df_filter[~df_filter['要求python']]['薪資下限']"
   ]
  },
  {
   "cell_type": "markdown",
   "id": "628f23b5",
   "metadata": {},
   "source": [
    "### 要求python描述統計"
   ]
  },
  {
   "cell_type": "code",
   "execution_count": null,
   "id": "420d6862",
   "metadata": {},
   "outputs": [],
   "source": [
    "with_py.describe()"
   ]
  },
  {
   "cell_type": "markdown",
   "id": "6c59eba8",
   "metadata": {},
   "source": [
    "### 不要求python描述統計"
   ]
  },
  {
   "cell_type": "code",
   "execution_count": null,
   "id": "47398161",
   "metadata": {},
   "outputs": [],
   "source": [
    "without_py.describe()"
   ]
  },
  {
   "cell_type": "markdown",
   "id": "d553bac7",
   "metadata": {},
   "source": [
    "### 繪製箱型圖，判斷資料是否偏態、觀察極端值"
   ]
  },
  {
   "cell_type": "code",
   "execution_count": null,
   "id": "bd92f19d",
   "metadata": {},
   "outputs": [],
   "source": [
    "plt.figure(figsize=(12,5))\n",
    "plt.rcParams['font.family'] = 'Microsoft JhengHei'\n",
    "plt.rcParams['axes.unicode_minus'] = False\n",
    "sns.boxplot(x='要求python',y='薪資下限',data=df_filter)\n",
    "plt.title('薪資下限的箱型圖(是否要求python)')"
   ]
  },
  {
   "cell_type": "markdown",
   "id": "a47122c3",
   "metadata": {},
   "source": [
    "### 用IQR(InterQuantile Range)去除極端值"
   ]
  },
  {
   "cell_type": "code",
   "execution_count": null,
   "id": "8ed81692",
   "metadata": {},
   "outputs": [],
   "source": [
    "def remove_outlier(group):\n",
    "    Q1=group['薪資下限'].quantile(0.25)\n",
    "    Q3=group['薪資下限'].quantile(0.75)\n",
    "    IQR=Q3-Q1\n",
    "    lower_bound=Q1-1.5*IQR\n",
    "    upper_bound=Q3+1.5*IQR\n",
    "    return group[(group['薪資下限']>=lower_bound ) & (group['薪資下限']<=upper_bound)]\n",
    "\n",
    "df_no_outlier=df_filter.groupby('要求python',group_keys=False).apply(remove_outlier)"
   ]
  },
  {
   "cell_type": "markdown",
   "id": "734ba34f",
   "metadata": {},
   "source": [
    "### 去除極端值後的箱型圖"
   ]
  },
  {
   "cell_type": "code",
   "execution_count": null,
   "id": "0cb4129d",
   "metadata": {},
   "outputs": [],
   "source": [
    "sns.boxplot(x='要求python',y=\"薪資下限\",data=df_no_outlier)\n",
    "plt.title(\"薪資下限去除極端值的箱型圖(是否要求python)\")"
   ]
  },
  {
   "cell_type": "markdown",
   "id": "d379ca04",
   "metadata": {},
   "source": [
    "### 因有明顯右偏態，故取自然對數，使資料分布更接近常態分佈。"
   ]
  },
  {
   "cell_type": "code",
   "execution_count": null,
   "id": "f7107552",
   "metadata": {},
   "outputs": [],
   "source": [
    "df_no_outlier['log_薪資下限']=np.log(df_no_outlier['薪資下限'])\n",
    "\n",
    "with_py_log=df_no_outlier[df_no_outlier['要求python']]['log_薪資下限']\n",
    "without_py_log=df_no_outlier[~df_no_outlier['要求python']]['log_薪資下限']"
   ]
  },
  {
   "cell_type": "markdown",
   "id": "0312d8c4",
   "metadata": {},
   "source": [
    "### 檢查常態性(shapiro-wilk)"
   ]
  },
  {
   "cell_type": "code",
   "execution_count": null,
   "id": "f4c2b9ee",
   "metadata": {},
   "outputs": [],
   "source": [
    "stats.shapiro(with_py_log)"
   ]
  },
  {
   "cell_type": "code",
   "execution_count": null,
   "id": "8f64a439",
   "metadata": {},
   "outputs": [],
   "source": [
    "stats.shapiro(without_py_log)"
   ]
  },
  {
   "cell_type": "markdown",
   "id": "3c3e8e84",
   "metadata": {},
   "source": [
    "### 檢查變異數齊性(levene's test)"
   ]
  },
  {
   "cell_type": "code",
   "execution_count": null,
   "id": "7648f45a",
   "metadata": {},
   "outputs": [],
   "source": [
    "stats.levene(with_py_log,without_py_log)"
   ]
  },
  {
   "cell_type": "markdown",
   "id": "664393b5",
   "metadata": {},
   "source": [
    "### 因資料不符合 t-test 的前提（常態性與變異數齊性），故改用非參數檢定 Mann-Whitney U Test。該檢定不要求資料常態分布與變異數齊性，適用於比較兩組樣本的中位數是否存在顯著差異。"
   ]
  },
  {
   "cell_type": "code",
   "execution_count": null,
   "id": "91eac6b5",
   "metadata": {},
   "outputs": [],
   "source": [
    "with_py_no_outlier=df_no_outlier[df_no_outlier['要求python']]['薪資下限']\n",
    "without_py_no_outlier=df_no_outlier[~df_no_outlier['要求python']]['薪資下限']\n",
    "u_stat,p_value=stats.mannwhitneyu(with_py_no_outlier,without_py_no_outlier,alternative=\"two-sided\")\n",
    "print(f\"Mann-Whitneyu U test 統計量:{u_stat}\")\n",
    "print(f\"p-value:{p_value}\")"
   ]
  },
  {
   "cell_type": "code",
   "execution_count": null,
   "id": "288b0c73",
   "metadata": {},
   "outputs": [],
   "source": [
    "df_no_outlier['要求python'].value_counts()"
   ]
  }
 ],
 "metadata": {},
 "nbformat": 4,
 "nbformat_minor": 5
}
