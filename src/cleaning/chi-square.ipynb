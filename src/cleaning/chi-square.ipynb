{
 "cells": [
  {
   "cell_type": "code",
   "execution_count": 42,
   "id": "9d11a88d",
   "metadata": {},
   "outputs": [],
   "source": [
    "# Step 0: 載入套件\n",
    "import pandas as pd\n",
    "from scipy.stats import chi2_contingency\n",
    "import matplotlib.pyplot as plt\n",
    "import seaborn as sns"
   ]
  },
  {
   "cell_type": "code",
   "execution_count": 43,
   "id": "c00fb048",
   "metadata": {},
   "outputs": [],
   "source": [
    "df=pd.read_csv(r\"C:\\Users\\FM_pc\\Desktop\\jobs_analysis_project\\data\\暫時匯出查看.csv\")"
   ]
  },
  {
   "cell_type": "code",
   "execution_count": 44,
   "id": "8006d543",
   "metadata": {},
   "outputs": [
    {
     "name": "stdout",
     "output_type": "stream",
     "text": [
      "<class 'pandas.core.frame.DataFrame'>\n",
      "RangeIndex: 590 entries, 0 to 589\n",
      "Data columns (total 22 columns):\n",
      " #   Column       Non-Null Count  Dtype  \n",
      "---  ------       --------------  -----  \n",
      " 0   上架日期         590 non-null    int64  \n",
      " 1   申請人數         590 non-null    int64  \n",
      " 2   公司名稱         590 non-null    object \n",
      " 3   description  590 non-null    object \n",
      " 4   縣市           590 non-null    object \n",
      " 5   職稱           590 non-null    object \n",
      " 6   工作編號         590 non-null    int64  \n",
      " 7   經度           590 non-null    float64\n",
      " 8   緯度           590 non-null    float64\n",
      " 9   major        590 non-null    object \n",
      " 10  學歷要求         590 non-null    object \n",
      " 11  是否遠距         590 non-null    object \n",
      " 12  薪資下限         590 non-null    int64  \n",
      " 13  是否積極徵才       590 non-null    int64  \n",
      " 14  員工人數         488 non-null    float64\n",
      " 15  搜尋關鍵字        590 non-null    object \n",
      " 16  薪資是否為面議      590 non-null    int64  \n",
      " 17  是否要求特定major  590 non-null    int64  \n",
      " 18  八大產業         590 non-null    object \n",
      " 19  公司規模         590 non-null    object \n",
      " 20  工作經驗         590 non-null    object \n",
      " 21  專長工具         392 non-null    object \n",
      "dtypes: float64(3), int64(7), object(12)\n",
      "memory usage: 101.5+ KB\n"
     ]
    }
   ],
   "source": [
    "df.info()"
   ]
  },
  {
   "cell_type": "markdown",
   "id": "0d3e45f2",
   "metadata": {},
   "source": [
    "### 做出交叉表"
   ]
  },
  {
   "cell_type": "code",
   "execution_count": 45,
   "id": "9bec238f",
   "metadata": {},
   "outputs": [
    {
     "data": {
      "text/html": [
       "<div>\n",
       "<style scoped>\n",
       "    .dataframe tbody tr th:only-of-type {\n",
       "        vertical-align: middle;\n",
       "    }\n",
       "\n",
       "    .dataframe tbody tr th {\n",
       "        vertical-align: top;\n",
       "    }\n",
       "\n",
       "    .dataframe thead th {\n",
       "        text-align: right;\n",
       "    }\n",
       "</style>\n",
       "<table border=\"1\" class=\"dataframe\">\n",
       "  <thead>\n",
       "    <tr style=\"text-align: right;\">\n",
       "      <th>薪資是否為面議</th>\n",
       "      <th>0</th>\n",
       "      <th>1</th>\n",
       "    </tr>\n",
       "    <tr>\n",
       "      <th>八大產業</th>\n",
       "      <th></th>\n",
       "      <th></th>\n",
       "    </tr>\n",
       "  </thead>\n",
       "  <tbody>\n",
       "    <tr>\n",
       "      <th>其他</th>\n",
       "      <td>5</td>\n",
       "      <td>8</td>\n",
       "    </tr>\n",
       "    <tr>\n",
       "      <th>批發與零售業</th>\n",
       "      <td>17</td>\n",
       "      <td>16</td>\n",
       "    </tr>\n",
       "    <tr>\n",
       "      <th>服務與專業顧問業</th>\n",
       "      <td>37</td>\n",
       "      <td>56</td>\n",
       "    </tr>\n",
       "    <tr>\n",
       "      <th>製造業</th>\n",
       "      <td>16</td>\n",
       "      <td>74</td>\n",
       "    </tr>\n",
       "    <tr>\n",
       "      <th>觀光與餐飲業</th>\n",
       "      <td>3</td>\n",
       "      <td>2</td>\n",
       "    </tr>\n",
       "    <tr>\n",
       "      <th>資訊科技業</th>\n",
       "      <td>73</td>\n",
       "      <td>149</td>\n",
       "    </tr>\n",
       "    <tr>\n",
       "      <th>運輸與物流業</th>\n",
       "      <td>1</td>\n",
       "      <td>3</td>\n",
       "    </tr>\n",
       "    <tr>\n",
       "      <th>醫療與健康照護</th>\n",
       "      <td>7</td>\n",
       "      <td>13</td>\n",
       "    </tr>\n",
       "    <tr>\n",
       "      <th>金融與保險業</th>\n",
       "      <td>21</td>\n",
       "      <td>89</td>\n",
       "    </tr>\n",
       "  </tbody>\n",
       "</table>\n",
       "</div>"
      ],
      "text/plain": [
       "薪資是否為面議    0    1\n",
       "八大產業             \n",
       "其他         5    8\n",
       "批發與零售業    17   16\n",
       "服務與專業顧問業  37   56\n",
       "製造業       16   74\n",
       "觀光與餐飲業     3    2\n",
       "資訊科技業     73  149\n",
       "運輸與物流業     1    3\n",
       "醫療與健康照護    7   13\n",
       "金融與保險業    21   89"
      ]
     },
     "execution_count": 45,
     "metadata": {},
     "output_type": "execute_result"
    }
   ],
   "source": [
    "cross_table=pd.crosstab(df['八大產業'],df['薪資是否為面議'])\n",
    "cross_table"
   ]
  },
  {
   "cell_type": "markdown",
   "id": "54a3a38e",
   "metadata": {},
   "source": [
    "### 篩掉違反卡方前提的欄位。(期望值<5)"
   ]
  },
  {
   "cell_type": "code",
   "execution_count": 46,
   "id": "59688fa6",
   "metadata": {},
   "outputs": [
    {
     "data": {
      "text/plain": [
       "array([[  3.96610169,   9.03389831],\n",
       "       [ 10.06779661,  22.93220339],\n",
       "       [ 28.37288136,  64.62711864],\n",
       "       [ 27.45762712,  62.54237288],\n",
       "       [  1.52542373,   3.47457627],\n",
       "       [ 67.72881356, 154.27118644],\n",
       "       [  1.22033898,   2.77966102],\n",
       "       [  6.10169492,  13.89830508],\n",
       "       [ 33.55932203,  76.44067797]])"
      ]
     },
     "execution_count": 46,
     "metadata": {},
     "output_type": "execute_result"
    }
   ],
   "source": [
    "chi2,p,dof,expected=chi2_contingency(cross_table)\n",
    "expected"
   ]
  },
  {
   "cell_type": "code",
   "execution_count": 47,
   "id": "960e3347",
   "metadata": {},
   "outputs": [
    {
     "data": {
      "text/html": [
       "<div>\n",
       "<style scoped>\n",
       "    .dataframe tbody tr th:only-of-type {\n",
       "        vertical-align: middle;\n",
       "    }\n",
       "\n",
       "    .dataframe tbody tr th {\n",
       "        vertical-align: top;\n",
       "    }\n",
       "\n",
       "    .dataframe thead th {\n",
       "        text-align: right;\n",
       "    }\n",
       "</style>\n",
       "<table border=\"1\" class=\"dataframe\">\n",
       "  <thead>\n",
       "    <tr style=\"text-align: right;\">\n",
       "      <th>薪資是否為面議</th>\n",
       "      <th>0</th>\n",
       "      <th>1</th>\n",
       "    </tr>\n",
       "    <tr>\n",
       "      <th>八大產業</th>\n",
       "      <th></th>\n",
       "      <th></th>\n",
       "    </tr>\n",
       "  </thead>\n",
       "  <tbody>\n",
       "    <tr>\n",
       "      <th>其他</th>\n",
       "      <td>3.966102</td>\n",
       "      <td>9.033898</td>\n",
       "    </tr>\n",
       "    <tr>\n",
       "      <th>批發與零售業</th>\n",
       "      <td>10.067797</td>\n",
       "      <td>22.932203</td>\n",
       "    </tr>\n",
       "    <tr>\n",
       "      <th>服務與專業顧問業</th>\n",
       "      <td>28.372881</td>\n",
       "      <td>64.627119</td>\n",
       "    </tr>\n",
       "    <tr>\n",
       "      <th>製造業</th>\n",
       "      <td>27.457627</td>\n",
       "      <td>62.542373</td>\n",
       "    </tr>\n",
       "    <tr>\n",
       "      <th>觀光與餐飲業</th>\n",
       "      <td>1.525424</td>\n",
       "      <td>3.474576</td>\n",
       "    </tr>\n",
       "    <tr>\n",
       "      <th>資訊科技業</th>\n",
       "      <td>67.728814</td>\n",
       "      <td>154.271186</td>\n",
       "    </tr>\n",
       "    <tr>\n",
       "      <th>運輸與物流業</th>\n",
       "      <td>1.220339</td>\n",
       "      <td>2.779661</td>\n",
       "    </tr>\n",
       "    <tr>\n",
       "      <th>醫療與健康照護</th>\n",
       "      <td>6.101695</td>\n",
       "      <td>13.898305</td>\n",
       "    </tr>\n",
       "    <tr>\n",
       "      <th>金融與保險業</th>\n",
       "      <td>33.559322</td>\n",
       "      <td>76.440678</td>\n",
       "    </tr>\n",
       "  </tbody>\n",
       "</table>\n",
       "</div>"
      ],
      "text/plain": [
       "薪資是否為面議           0           1\n",
       "八大產業                           \n",
       "其他         3.966102    9.033898\n",
       "批發與零售業    10.067797   22.932203\n",
       "服務與專業顧問業  28.372881   64.627119\n",
       "製造業       27.457627   62.542373\n",
       "觀光與餐飲業     1.525424    3.474576\n",
       "資訊科技業     67.728814  154.271186\n",
       "運輸與物流業     1.220339    2.779661\n",
       "醫療與健康照護    6.101695   13.898305\n",
       "金融與保險業    33.559322   76.440678"
      ]
     },
     "execution_count": 47,
     "metadata": {},
     "output_type": "execute_result"
    }
   ],
   "source": [
    "expected_df=pd.DataFrame(expected,index=cross_table.index,columns=cross_table.columns)\n",
    "expected_df"
   ]
  },
  {
   "cell_type": "code",
   "execution_count": 48,
   "id": "1a406abf",
   "metadata": {},
   "outputs": [
    {
     "data": {
      "text/html": [
       "<div>\n",
       "<style scoped>\n",
       "    .dataframe tbody tr th:only-of-type {\n",
       "        vertical-align: middle;\n",
       "    }\n",
       "\n",
       "    .dataframe tbody tr th {\n",
       "        vertical-align: top;\n",
       "    }\n",
       "\n",
       "    .dataframe thead th {\n",
       "        text-align: right;\n",
       "    }\n",
       "</style>\n",
       "<table border=\"1\" class=\"dataframe\">\n",
       "  <thead>\n",
       "    <tr style=\"text-align: right;\">\n",
       "      <th>薪資是否為面議</th>\n",
       "      <th>0</th>\n",
       "      <th>1</th>\n",
       "    </tr>\n",
       "    <tr>\n",
       "      <th>八大產業</th>\n",
       "      <th></th>\n",
       "      <th></th>\n",
       "    </tr>\n",
       "  </thead>\n",
       "  <tbody>\n",
       "    <tr>\n",
       "      <th>批發與零售業</th>\n",
       "      <td>17</td>\n",
       "      <td>16</td>\n",
       "    </tr>\n",
       "    <tr>\n",
       "      <th>服務與專業顧問業</th>\n",
       "      <td>37</td>\n",
       "      <td>56</td>\n",
       "    </tr>\n",
       "    <tr>\n",
       "      <th>製造業</th>\n",
       "      <td>16</td>\n",
       "      <td>74</td>\n",
       "    </tr>\n",
       "    <tr>\n",
       "      <th>資訊科技業</th>\n",
       "      <td>73</td>\n",
       "      <td>149</td>\n",
       "    </tr>\n",
       "    <tr>\n",
       "      <th>醫療與健康照護</th>\n",
       "      <td>7</td>\n",
       "      <td>13</td>\n",
       "    </tr>\n",
       "    <tr>\n",
       "      <th>金融與保險業</th>\n",
       "      <td>21</td>\n",
       "      <td>89</td>\n",
       "    </tr>\n",
       "  </tbody>\n",
       "</table>\n",
       "</div>"
      ],
      "text/plain": [
       "薪資是否為面議    0    1\n",
       "八大產業             \n",
       "批發與零售業    17   16\n",
       "服務與專業顧問業  37   56\n",
       "製造業       16   74\n",
       "資訊科技業     73  149\n",
       "醫療與健康照護    7   13\n",
       "金融與保險業    21   89"
      ]
     },
     "execution_count": 48,
     "metadata": {},
     "output_type": "execute_result"
    }
   ],
   "source": [
    "valid_rows=expected_df.min(axis=1)>=5\n",
    "filtered_cross_table=cross_table[valid_rows]\n",
    "filtered_cross_table"
   ]
  },
  {
   "cell_type": "markdown",
   "id": "f6485cae",
   "metadata": {},
   "source": [
    "### 計算卡方值,p值，得出結論"
   ]
  },
  {
   "cell_type": "code",
   "execution_count": null,
   "id": "40ebdc6e",
   "metadata": {},
   "outputs": [
    {
     "name": "stdout",
     "output_type": "stream",
     "text": [
      "卡方值:25.213269335559453\n",
      "p值:0.0001267236168309338\n",
      "自由度:5\n"
     ]
    }
   ],
   "source": [
    "chi2,p,dof,expected=chi2_contingency(filtered_cross_table)\n",
    "print(f\"卡方值:{chi2}\")    #所有 ((觀察值-期望值)**2)/期望值 的加總\n",
    "print(f\"p值:{p}\")\n",
    "print(f\"自由度:{dof}\")     #(欄個數-1)*(列個數-1)"
   ]
  }
 ],
 "metadata": {
  "kernelspec": {
   "display_name": "104project",
   "language": "python",
   "name": "python3"
  },
  "language_info": {
   "codemirror_mode": {
    "name": "ipython",
    "version": 3
   },
   "file_extension": ".py",
   "mimetype": "text/x-python",
   "name": "python",
   "nbconvert_exporter": "python",
   "pygments_lexer": "ipython3",
   "version": "3.10.18"
  }
 },
 "nbformat": 4,
 "nbformat_minor": 5
}
